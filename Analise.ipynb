{
 "cells": [
  {
   "cell_type": "code",
   "execution_count": 18,
   "metadata": {},
   "outputs": [],
   "source": [
    "import pandas as pd \n",
    "import matplotlib.pyplot as plt\n",
    "import seaborn as sns"
   ]
  },
  {
   "cell_type": "code",
   "execution_count": 2,
   "metadata": {},
   "outputs": [],
   "source": [
    "df_exp1 = pd.read_csv('/home/rafaelfabrichimidt/Documentos/projetos/Mestrado/ArtigoIA/Resultados_Experimentos/Experimento_1/query_sql_request_consolidado.csv')\n",
    "df_exp2 = pd.read_csv('/home/rafaelfabrichimidt/Documentos/projetos/Mestrado/ArtigoIA/Resultados_Experimentos/Experimento_2/query_sql_request_consolidado.csv')\n",
    "df_exp3 = pd.read_csv('/home/rafaelfabrichimidt/Documentos/projetos/Mestrado/ArtigoIA/Resultados_Experimentos/Experimento_3/query_sql_request_consolidado.csv')"
   ]
  },
  {
   "cell_type": "code",
   "execution_count": 6,
   "metadata": {},
   "outputs": [],
   "source": [
    "df_exp1['Experimento'] = 'Experimento 1'\n",
    "df_exp2['Experimento'] = 'Experimento 2'\n",
    "df_exp3['Experimento'] = 'Experimento 3'"
   ]
  },
  {
   "cell_type": "code",
   "execution_count": 7,
   "metadata": {},
   "outputs": [],
   "source": [
    "df = pd.concat([df_exp1, df_exp2, df_exp3])"
   ]
  },
  {
   "cell_type": "code",
   "execution_count": 9,
   "metadata": {},
   "outputs": [],
   "source": [
    "df.reset_index(inplace = True, drop=True)"
   ]
  },
  {
   "cell_type": "code",
   "execution_count": 40,
   "metadata": {},
   "outputs": [],
   "source": [
    "\n"
   ]
  },
  {
   "cell_type": "code",
   "execution_count": 51,
   "metadata": {},
   "outputs": [
    {
     "data": {
      "text/html": [
       "<div>\n",
       "<style scoped>\n",
       "    .dataframe tbody tr th:only-of-type {\n",
       "        vertical-align: middle;\n",
       "    }\n",
       "\n",
       "    .dataframe tbody tr th {\n",
       "        vertical-align: top;\n",
       "    }\n",
       "\n",
       "    .dataframe thead th {\n",
       "        text-align: right;\n",
       "    }\n",
       "</style>\n",
       "<table border=\"1\" class=\"dataframe\">\n",
       "  <thead>\n",
       "    <tr style=\"text-align: right;\">\n",
       "      <th></th>\n",
       "      <th>Experimento</th>\n",
       "      <th>requisicao</th>\n",
       "      <th>count</th>\n",
       "    </tr>\n",
       "  </thead>\n",
       "  <tbody>\n",
       "    <tr>\n",
       "      <th>5</th>\n",
       "      <td>Experimento 1</td>\n",
       "      <td>Falha</td>\n",
       "      <td>0</td>\n",
       "    </tr>\n",
       "    <tr>\n",
       "      <th>0</th>\n",
       "      <td>Experimento 1</td>\n",
       "      <td>Sucesso</td>\n",
       "      <td>100</td>\n",
       "    </tr>\n",
       "    <tr>\n",
       "      <th>2</th>\n",
       "      <td>Experimento 2</td>\n",
       "      <td>Falha</td>\n",
       "      <td>127</td>\n",
       "    </tr>\n",
       "    <tr>\n",
       "      <th>1</th>\n",
       "      <td>Experimento 2</td>\n",
       "      <td>Sucesso</td>\n",
       "      <td>373</td>\n",
       "    </tr>\n",
       "    <tr>\n",
       "      <th>4</th>\n",
       "      <td>Experimento 3</td>\n",
       "      <td>Falha</td>\n",
       "      <td>82</td>\n",
       "    </tr>\n",
       "    <tr>\n",
       "      <th>3</th>\n",
       "      <td>Experimento 3</td>\n",
       "      <td>Sucesso</td>\n",
       "      <td>418</td>\n",
       "    </tr>\n",
       "  </tbody>\n",
       "</table>\n",
       "</div>"
      ],
      "text/plain": [
       "     Experimento requisicao  count\n",
       "5  Experimento 1      Falha      0\n",
       "0  Experimento 1    Sucesso    100\n",
       "2  Experimento 2      Falha    127\n",
       "1  Experimento 2    Sucesso    373\n",
       "4  Experimento 3      Falha     82\n",
       "3  Experimento 3    Sucesso    418"
      ]
     },
     "execution_count": 51,
     "metadata": {},
     "output_type": "execute_result"
    }
   ],
   "source": []
  },
  {
   "cell_type": "code",
   "execution_count": 101,
   "metadata": {},
   "outputs": [
    {
     "name": "stdout",
     "output_type": "stream",
     "text": [
      "0      0\n",
      "1    100\n",
      "2    127\n",
      "3    373\n",
      "4     82\n",
      "5    418\n",
      "Name: count, dtype: int64\n"
     ]
    },
    {
     "data": {
      "image/png": "[encoded data removed]",
      "text/plain": [
       "<Figure size 800x350 with 1 Axes>"
      ]
     },
     "metadata": {},
     "output_type": "display_data"
    }
   ],
   "source": [
    "graph = pd.DataFrame(df.groupby('Experimento')['requisicao'].value_counts()).reset_index()\n",
    "graph = pd.concat( [graph, pd.DataFrame([['Experimento 1', 'Falha', 0]], columns=graph.columns) ])\n",
    "graph = graph.sort_values(by = ['Experimento', 'requisicao']).reset_index(drop = True)\n",
    "\n",
    "sns.set_style('white')\n",
    "\n",
    "fig, ax = plt.subplots(figsize = (8, 3.5))\n",
    "\n",
    "sns.barplot(x = graph['Experimento'], y = graph['count'], hue = graph['requisicao'], ax = ax, palette=['#FF1111', '#32CD32'])\n",
    "\n",
    "for axis in ['bottom', 'top', 'left', 'right']:\n",
    "    ax.spines[axis].set_visible(None)\n",
    "\n",
    "ax.tick_params(axis = 'y', left = False, labelleft = False)\n",
    "\n",
    "ax.set_xlabel('')\n",
    "ax.set_ylabel('')\n",
    "ax.set_title('Quantidade de requisições com sucesso e falha - Provida pela LLM \\n \\n ')\n",
    "\n",
    "print(graph['count'])\n",
    "sns.move_legend(\n",
    "    ax, \"upper center\",  \n",
    "    bbox_to_anchor=(.5, 1.2), ncol=2, title=None, frameon=False,\n",
    ")\n",
    "j = -0.25\n",
    "for i in range(0, graph.shape[0], 1):\n",
    "    if (i%2 != 0):\n",
    "        ax.text(x = j - 0.12, y = graph.loc[i, 'count'] + 5, s = graph.loc[i, 'count'], size = 14)\n",
    "\n",
    "    else:\n",
    "        ax.text(x = j, y = graph.loc[i, 'count'] + 5, s = graph.loc[i, 'count'], size = 14)\n",
    "\n",
    "    j = j + 0.5\n",
    "\n",
    "fig.tight_layout();\n",
    "\n",
    "fig.savefig('Query_Requisicao.png', dpi = 300, transparent=True)"
   ]
  },
  {
   "cell_type": "code",
   "execution_count": null,
   "metadata": {},
   "outputs": [],
   "source": []
  }
 ],
 "metadata": {
  "kernelspec": {
   "display_name": "env",
   "language": "python",
   "name": "python3"
  },
  "language_info": {
   "codemirror_mode": {
    "name": "ipython",
    "version": 3
   },
   "file_extension": ".py",
   "mimetype": "text/x-python",
   "name": "python",
   "nbconvert_exporter": "python",
   "pygments_lexer": "ipython3",
   "version": "3.10.12"
  }
 },
 "nbformat": 4,
 "nbformat_minor": 2
}
