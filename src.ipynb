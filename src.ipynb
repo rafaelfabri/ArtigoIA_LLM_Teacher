{
 "cells": [
  {
   "cell_type": "code",
   "execution_count": 1,
   "metadata": {},
   "outputs": [
    {
     "data": {
      "text/plain": [
       "True"
      ]
     },
     "execution_count": 1,
     "metadata": {},
     "output_type": "execute_result"
    }
   ],
   "source": [
    "import datetime\n",
    "import os \n",
    "from dotenv import load_dotenv\n",
    "import numpy as np\n",
    "\n",
    "path = '/home/rafaelfabrichimidt/Documentos/projetos/env_vars/'\n",
    "envfile = '.env'\n",
    "\n",
    "load_dotenv(dotenv_path = path + envfile)"
   ]
  },
  {
   "cell_type": "code",
   "execution_count": 3,
   "metadata": {},
   "outputs": [],
   "source": [
    "import duckdb\n",
    "conn = duckdb.execute(\"ATTACH 'dbname=postgresql_oltp user=admin host=localhost, password=12345' AS db (TYPE POSTGRES); \")"
   ]
  },
  {
   "cell_type": "code",
   "execution_count": 26,
   "metadata": {},
   "outputs": [],
   "source": [
    "df_insc = conn.sql('''\n",
    "                 SELECT nu_inscricao, \n",
    "                        nu_nota_comp1, \n",
    "                        nu_nota_comp2, \n",
    "                        nu_nota_comp3, \n",
    "                        nu_nota_comp4,\n",
    "                        nu_nota_comp5,\n",
    "                        nu_nota_redacao \n",
    "                 FROM db.enem.base_enem\n",
    "                 WHERE nu_nota_redacao IS NOT NULL\n",
    "                 LIMIT 100''')\n",
    "\n",
    "df_insc.df().to_csv('Experimento_1.csv', index = False)"
   ]
  },
  {
   "cell_type": "code",
   "execution_count": 38,
   "metadata": {},
   "outputs": [],
   "source": [
    "alunos_exp_1 = pd.read_csv('Experimento_1.csv')"
   ]
  },
  {
   "cell_type": "code",
   "execution_count": 4,
   "metadata": {},
   "outputs": [],
   "source": [
    "OPENAI_API_KEY = os.getenv('OPENAI_API_KEY')"
   ]
  },
  {
   "cell_type": "code",
   "execution_count": 5,
   "metadata": {},
   "outputs": [],
   "source": [
    "from openai import OpenAI\n",
    "client = OpenAI()"
   ]
  },
  {
   "cell_type": "code",
   "execution_count": 11,
   "metadata": {},
   "outputs": [],
   "source": [
    "system_prompt_sql = 'Você é responsável por construir queries SQL Postgres, para a query SQL funcionar deve-se adicionar no FROM database.schema.table. Retorne apenas a query SQL'\n",
    "\n",
    "descricao_base_enem_sql = '''\n",
    "                                database=db;\n",
    "                                schema=enem;\n",
    "                                table=base_enem;\n",
    "                                campo no_municipio_esc tipo varchar Nome do município da escola;\n",
    "                                campo sg_uf_esc tipo varchar Sigla da Unidade da Federação da escola;\n",
    "                                campo nu_inscricao tipo int Número da inscrição do aluno; \n",
    "                                campo nu_nota_cn tipo int Nota da prova de Ciências da Natureza; \n",
    "                                campo nu_nota_ch tipo int Nota da prova de Ciências Humanas;\n",
    "                                campo nu_nota_lc tipo int Nota da prova de Linguagens e Códigos;\n",
    "                                campo nu_nota_mt tipo int Nota da Nota da prova de Matemática;\n",
    "                                campo tp_status_redacao tipo int Situação da redação do participante;\n",
    "                                campo nu_nota_comp1 tipo int Nota da competência 1 da prova de redação; \n",
    "                                campo nu_nota_comp2 tipo int Nota da competência 2 da prova de redação; \n",
    "                                campo nu_nota_comp3 tipo int Nota da competência 3 da prova de redação;\n",
    "                                campo nu_nota_comp4 tipo int Nota da competência 4 da prova de redação; \n",
    "                                campo nu_nota_comp5 tipo int Nota da competência 5 da prova de redação; \n",
    "                                campo nu_nota_redacao tipo int Nota final da prova de redação ;\n",
    "\n",
    "'''\n",
    "\n",
    "user_mensage_question = 'Sou o aluno com inscrição 210061103945 desejava saber meu desempenho em na Redação do Enem e como posso melhorar no próximo ano?'\n",
    "\n"
   ]
  },
  {
   "cell_type": "code",
   "execution_count": 12,
   "metadata": {},
   "outputs": [],
   "source": [
    "mensagens = [\n",
    "    {'role': 'system', 'content': system_prompt_sql},\n",
    "    {'role': 'system', 'content': descricao_base_enem_sql},\n",
    "    {'role': 'user', 'content': user_mensage_question}\n",
    "]"
   ]
  },
  {
   "cell_type": "code",
   "execution_count": 13,
   "metadata": {},
   "outputs": [
    {
     "name": "stdout",
     "output_type": "stream",
     "text": [
      "```sql\n",
      "SELECT nu_nota_redacao, \n",
      "       nu_nota_comp1, \n",
      "       nu_nota_comp2, \n",
      "       nu_nota_comp3, \n",
      "       nu_nota_comp4, \n",
      "       nu_nota_comp5 \n",
      "FROM db.enem.base_enem \n",
      "WHERE nu_inscricao = 210061103945;\n",
      "```\n"
     ]
    }
   ],
   "source": [
    "resposta = client.chat.completions.create(\n",
    "    model='gpt-4o-mini',\n",
    "    messages=mensagens,\n",
    "    max_tokens=200,\n",
    "    temperature=0.7,\n",
    ")\n",
    "\n",
    "mensagem_resp = resposta.choices[0].message.content\n",
    "print(mensagem_resp)\n",
    "\n",
    "sql_query = mensagem_resp.replace(\"```\", \"\").split('sql')[1]"
   ]
  },
  {
   "cell_type": "code",
   "execution_count": 14,
   "metadata": {},
   "outputs": [],
   "source": [
    "df = conn.sql(sql_query)"
   ]
  },
  {
   "cell_type": "code",
   "execution_count": 16,
   "metadata": {},
   "outputs": [
    {
     "data": {
      "text/plain": [
       "{'nu_nota_redacao': array([700.]),\n",
       " 'nu_nota_comp1': array([140.]),\n",
       " 'nu_nota_comp2': array([200.]),\n",
       " 'nu_nota_comp3': array([100.]),\n",
       " 'nu_nota_comp4': array([120.]),\n",
       " 'nu_nota_comp5': array([140.])}"
      ]
     },
     "execution_count": 16,
     "metadata": {},
     "output_type": "execute_result"
    }
   ],
   "source": [
    "df.fetchnumpy()"
   ]
  },
  {
   "cell_type": "code",
   "execution_count": 21,
   "metadata": {},
   "outputs": [],
   "source": [
    "system_prompt_dialogue = '''\n",
    "                                Você é um professor responsável por analisar o desempenho de \n",
    "                                um aluno no Enem e recomendar estudos de acordo com sua pontuação\n",
    "                                um resumo das Competência de cada área, não precisa repetir as \n",
    "                                competências apenas descrever e sugerir exemplos de melhoria em cada competência\n",
    "'''\n",
    "\n",
    "\n",
    "descricao_detalhada_enem = open(file = 'descricao_detalhada.txt', mode = 'r').read()\n",
    "\n",
    "user_mensage_with_data = user_mensage_question + 'Os dados com detalhes do desempenho do Aluno encontra-se abaixo \\n ' + f' {df.fetchnumpy()} Ajude o aluno para melhorar sua nota: '"
   ]
  },
  {
   "cell_type": "code",
   "execution_count": 22,
   "metadata": {},
   "outputs": [],
   "source": [
    "prompt_resposta = [\n",
    "    {'role': 'system', 'content': system_prompt_dialogue},\n",
    "    {'role': 'system', 'content': descricao_detalhada_enem},                                \n",
    "    {'role': 'user', 'content': user_mensage_with_data}\n",
    "     ]"
   ]
  },
  {
   "cell_type": "code",
   "execution_count": 23,
   "metadata": {},
   "outputs": [
    {
     "name": "stdout",
     "output_type": "stream",
     "text": [
      "Caro aluno,\n",
      "\n",
      "Vamos analisar seu desempenho na redação do Enem, com base nas notas que você obteve em cada uma das competências. Sua nota final foi 700 pontos, o que indica um desempenho muito bom, mas ainda há áreas para melhorar. \n",
      "\n",
      "### Desempenho por Competência:\n",
      "\n",
      "1. **Competência 1 (Domínio da modalidade escrita formal da Língua Portuguesa)**: Nota 140\n",
      "   - Você demonstrou um bom domínio da escrita formal, mas há espaço para aprimoramento. Para melhorar, pratique a escrita de textos, focando em gramática e ortografia. Leia mais obras literárias e jornais para absorver diferentes estilos de escrita.\n",
      "\n",
      "2. **Competência 2 (Compreensão da proposta de redação)**: Nota 200\n",
      "   - Excelente desempenho! Você conseguiu compreender plenamente a proposta e aplicar conceitos adequados. Continue praticando a estruturação de textos dissertativo-argumentativos para manter essa competência.\n",
      "\n",
      "3. **Competência 3 (Seleção e organização de informações)**: Nota 100\n",
      "   - Aqui está uma área que precisa de maior atenção. Para melhorar, trabalhe na construção de argumentos e na relação entre ideias. Você pode fazer isso através da leitura crítica de textos e elaboração de resumos, organizando as ideias de forma lógica.\n",
      "\n",
      "4. **Competência 4 (Conhecimento dos mecanismos linguísticos)**: Nota 120\n",
      "   - Seu conhecimento dos mecanismos linguísticos é mediano. Para melhorar, estude diferentes tipos de conectivos e figuras de linguagem. Pratique a reescrita de trechos de textos para aprimorar a fluência e a coesão.\n",
      "\n",
      "5. **Competência 5 (Elaboração de proposta de intervenção)**: Nota 140\n",
      "   - Você conseguiu elaborar uma proposta de intervenção adequada, mas sempre há espaço para aprimoramento. Para isso, estude exemplos de propostas que foram bem avaliadas e tente entender como elas foram estruturadas\n"
     ]
    }
   ],
   "source": [
    "resposta = client.chat.completions.create(\n",
    "    model='gpt-4o-mini',\n",
    "    messages=prompt_resposta,\n",
    "    max_tokens=400,\n",
    "    temperature=0.7,\n",
    ")\n",
    "\n",
    "mensagem_resp = resposta.choices[0].message.content\n",
    "print(mensagem_resp)\n"
   ]
  },
  {
   "cell_type": "code",
   "execution_count": null,
   "metadata": {},
   "outputs": [],
   "source": []
  }
 ],
 "metadata": {
  "kernelspec": {
   "display_name": "env",
   "language": "python",
   "name": "python3"
  },
  "language_info": {
   "codemirror_mode": {
    "name": "ipython",
    "version": 3
   },
   "file_extension": ".py",
   "mimetype": "text/x-python",
   "name": "python",
   "nbconvert_exporter": "python",
   "pygments_lexer": "ipython3",
   "version": "3.10.12"
  }
 },
 "nbformat": 4,
 "nbformat_minor": 2
}
